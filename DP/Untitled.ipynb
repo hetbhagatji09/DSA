{
 "cells": [
  {
   "cell_type": "code",
   "execution_count": 3,
   "id": "5a513c65",
   "metadata": {},
   "outputs": [
    {
     "ename": "AttributeError",
     "evalue": "module 'speech_recognition' has no attribute 'Recoginizer'",
     "output_type": "error",
     "traceback": [
      "\u001b[1;31m---------------------------------------------------------------------------\u001b[0m",
      "\u001b[1;31mAttributeError\u001b[0m                            Traceback (most recent call last)",
      "Cell \u001b[1;32mIn[3], line 3\u001b[0m\n\u001b[0;32m      1\u001b[0m \u001b[38;5;28;01mimport\u001b[39;00m \u001b[38;5;21;01mspeech_recognition\u001b[39;00m\n\u001b[0;32m      2\u001b[0m \u001b[38;5;66;03m#import pyttsx3\u001b[39;00m\n\u001b[1;32m----> 3\u001b[0m recoginizer\u001b[38;5;241m=\u001b[39mspeech_recognition\u001b[38;5;241m.\u001b[39mRecoginizer()\n\u001b[0;32m      5\u001b[0m \u001b[38;5;28;01mwhile\u001b[39;00m \u001b[38;5;28;01mTrue\u001b[39;00m:\n\u001b[0;32m      7\u001b[0m     \u001b[38;5;28;01mtry\u001b[39;00m:\n",
      "\u001b[1;31mAttributeError\u001b[0m: module 'speech_recognition' has no attribute 'Recoginizer'"
     ]
    }
   ],
   "source": [
    "import speech_recognition\n",
    "#import pyttsx3\n",
    "recoginizer=speech_recognition.Recoginizer()\n",
    "\n",
    "while True:\n",
    "\n",
    "    try:\n",
    "\n",
    "        with speech_recognition.Microphone() as source:\n",
    "            recoginizer.adjust_for_ambient_noise(source,duration=0.2)\n",
    "            print(\"say something\")\n",
    "            audio=recoginizer.listen(source)\n",
    "            text=recoginizer.recognize_google(audio)\n",
    "            print(text)\n",
    "\n",
    "    except speech_recognition.UnknownValueError():\n",
    "        recoginizer=speech_recognition.Recoginizer()\n",
    "        continue;"
   ]
  },
  {
   "cell_type": "code",
   "execution_count": null,
   "id": "58315168",
   "metadata": {},
   "outputs": [],
   "source": []
  }
 ],
 "metadata": {
  "kernelspec": {
   "display_name": "Python 3 (ipykernel)",
   "language": "python",
   "name": "python3"
  },
  "language_info": {
   "codemirror_mode": {
    "name": "ipython",
    "version": 3
   },
   "file_extension": ".py",
   "mimetype": "text/x-python",
   "name": "python",
   "nbconvert_exporter": "python",
   "pygments_lexer": "ipython3",
   "version": "3.11.5"
  }
 },
 "nbformat": 4,
 "nbformat_minor": 5
}
